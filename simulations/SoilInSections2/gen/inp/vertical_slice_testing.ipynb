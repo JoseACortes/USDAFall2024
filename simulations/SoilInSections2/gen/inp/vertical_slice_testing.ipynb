{
 "cells": [
  {
   "cell_type": "markdown",
   "metadata": {},
   "source": [
    "# Imports"
   ]
  },
  {
   "cell_type": "code",
   "execution_count": 1,
   "metadata": {},
   "outputs": [],
   "source": [
    "import input_generator as gen"
   ]
  },
  {
   "cell_type": "code",
   "execution_count": 2,
   "metadata": {},
   "outputs": [],
   "source": [
    "input_folder = '../../compute/input/'"
   ]
  },
  {
   "cell_type": "markdown",
   "metadata": {},
   "source": [
    "# Materials"
   ]
  },
  {
   "cell_type": "code",
   "execution_count": 3,
   "metadata": {},
   "outputs": [],
   "source": [
    "# c ********************\n",
    "# c begin material cards\n",
    "# c ********************\n",
    "# c Mix Mo=15 *******************************\n",
    "# m1\t14000\t-0.2032\t$Silicon\n",
    "# \t13027\t-0.1611\t$Aluminum\n",
    "# \t26000\t-0.0315\t$Iron\n",
    "# \t6000\t-0.0870\t$Carbon\n",
    "# \t8016\t-0.5027\t$Oxygen\n",
    "# \t1001\t-0.0145\t$Hydrogen\n",
    "# c  **********************************\n",
    "# m5\t82207 1 $Lead\n",
    "# c ****************************************\n",
    "# c\tLaBr detector\n",
    "# c ****************************************\n",
    "# m7       35079    -0.2946\t$ Br79\n",
    "# \t 35081\t  -0.3069       $ Br81\n",
    "#   \t 57139    -0.3485\t$ La139\n",
    "# \t 58140    -0.0500 \t$ Ce140\n",
    "# c ****************************************\n",
    "# c m7       35079\t-0.316063    $ Br79 \n",
    "# c\t   35081\t-0.315242    $ Br81 \n",
    "# c \t   58136\t-0.000066    $ Ce136\n",
    "# c\t   58138\t-0.000090    $ Ce138\n",
    "# c\t   58140\t-0.032308    $ Ce140\n",
    "# c\t   58142\t-0.004118    $ Ce142\n",
    "# c\t   57138.80c    -0.000293    $ La138\n",
    "# c\t   57139.80c\t-0.331817    $ La139\n",
    "# c ************ air den=1.15e-3g/cc********\n",
    "# m12     8016 -0.23\n",
    "#         7014 -0.77"
   ]
  },
  {
   "cell_type": "code",
   "execution_count": 4,
   "metadata": {},
   "outputs": [],
   "source": [
    "LaBr_detector = gen.Material(\"Detector\", 7, {\n",
    "                                                        35079: -0.2946,\n",
    "                                                        35081: -0.3069,\n",
    "                                                        57139: -0.3485,\n",
    "                                                        58140: -0.0500\n",
    "                                                        })\n",
    "\n",
    "# Mo_15 = gen.Material(\"Mo_15\", 1, {\n",
    "#                                     14000: -0.2032,\n",
    "#                                     13027: -0.1611,\n",
    "#                                     26000: -0.0315,\n",
    "#                                     6000: -0.0870,\n",
    "#                                     8016: -0.5027,\n",
    "#                                     1001: -0.0145\n",
    "#                                     })\n",
    "\n",
    "Pb = gen.Material(\"Pb\", 5, {\n",
    "                            82207: 1\n",
    "                            })\n",
    "\n",
    "air = gen.Material(\"Air\", 12, {\n",
    "                                8016: -0.23,\n",
    "                                7014: -0.77\n",
    "                                })\n",
    "\n",
    "materials = [\n",
    "    LaBr_detector, \n",
    "    # Mo_15, \n",
    "    Pb, \n",
    "    air\n",
    "    ]"
   ]
  },
  {
   "cell_type": "code",
   "execution_count": 5,
   "metadata": {},
   "outputs": [],
   "source": [
    "# c SURFACE CARDS\n",
    "# c\n",
    "# c %%%%%%%%%%%\n",
    "# c Sample Volume\n",
    "# c %%%%%%%%%%%\n",
    "# 1 rcc 0.0 0.0 48.0  0.0 0.0 76.0  45 $30 - distance source-surface, 60 - thickness, 50 - radius\n",
    "# c 1 rpp -500 500 -500 500 48 348 $Soil xmin xmax ymin ymax zmin zmax\n",
    "# c %%%%%%%%%%%%%%%%%%%%%%%%%%%%%%%%%%%%%%%%\n",
    "# c Active Detector Region\n",
    "# c %%%%%%%%%%%%%%%%%%%%%%%%%%%%%%%%%%%%%%%%\n",
    "# 21 rcc -10.2  45.5 20.3   20.3 0.0 0.0   4.5 $Detector 1 Base center, Hx,Hy,Hz, radius \n",
    "# 22 rcc -10.2 -45.5 20.3   20.3 0.0 0.0   4.5 $Detector 2\n",
    "# c %%%%%%%%%%%%%%%%%%%%%%%%%%%%%%%%%%%%%%%%%\n",
    "# c Shielding Pb\n",
    "# c %%%%%%%%%%%%%%%%%%%%%%%%%%%%%%%%%%%%%%%\n",
    "# 31 rpp -20.3 20.3 7.6 33 2.54 15.2 $Pb xmin xmax ymin ymax zmin zmax\n",
    "# 32 rpp -20.3 20.3 -33 -7.6 2.54 15.2 $Pb xmin xmax ymin ymax zmin zmax\n",
    "# c ************************\n",
    "# 200 so 1500"
   ]
  },
  {
   "cell_type": "code",
   "execution_count": 6,
   "metadata": {},
   "outputs": [],
   "source": [
    "# soil = gen.cylinder(1, pos = (0.0, 0.0, 48.0), dir = (0.0, 0.0, 1), r=45, height=45)\n",
    "detector1 = gen.cylinder(21, pos = (-10.2, 45.5, 20.3), dir = (1, 0, 0), r=4.5, height=20.3)\n",
    "detector2 = gen.cylinder(22, pos = (-10.2, -45.5, 20.3), dir = (1, 0, 0), r=4.5, height=20.3)\n",
    "sheilding1 = gen.rpp(31, min = (-20.3, 7.6, 2.54), max = (20.3, 33, 15.2))\n",
    "sheilding2 = gen.rpp(32, min = (-20.3, -33, 2.54), max = (20.3, -7.6, 15.2))\n",
    "world = gen.sphere(200, pos = (0, 0, 0), r = 1500)\n",
    "\n",
    "surfaces = [\n",
    "    # soil, \n",
    "    detector1, \n",
    "    detector2, \n",
    "    sheilding1, \n",
    "    sheilding2, \n",
    "    world]"
   ]
  },
  {
   "cell_type": "markdown",
   "metadata": {},
   "source": [
    "# Cells"
   ]
  },
  {
   "cell_type": "code",
   "execution_count": 7,
   "metadata": {},
   "outputs": [],
   "source": [
    "# c @@@@@@@@@@ Detectors @@@@@@@@@@@@@@@@@\n",
    "# c\n",
    "# 101 7 -5.08 -21 imp:n,p 1 $LaBr Detector #1 Active Region\n",
    "# 102 7 -5.08 -22 imp:n,p 1 $LaBr Detector #2 Active Region\n",
    "# c\n",
    "# c @@@@@@@@@ Shielding @@@@@@@@@@@@@@@@@\n",
    "# c\n",
    "# 121 5 -11.29 -31 imp:n,p 1 $Pb1\n",
    "# 122 5 -11.29 -32 imp:n,p 1 $Pb2\n",
    "# c\n",
    "# c @@@@@@@@@@ SOIL VOLUME @@@@@@@@@@@\n",
    "# c\n",
    "# 20 1 -1.542 -1 imp:n,p 1 $ SOIL VOLUME\n",
    "# c\n",
    "# 30 12 -0.00129 -200 #101 #102 #121 #122 #20    imp:n,p 1 $Rest of the World\n",
    "# 31 0 200 imp:n,p 0 $Outside world"
   ]
  },
  {
   "cell_type": "code",
   "execution_count": 8,
   "metadata": {},
   "outputs": [],
   "source": [
    "# class cell():\n",
    "#     def __init__(self, cell_id, name, material, density, surfaces, importance=None):\n",
    "#         self.cell_id = cell_id\n",
    "#         self.name = name\n",
    "#         self.material = material\n",
    "#         self.density = density\n",
    "#         self.surfaces = surfaces\n",
    "#         self.importance = importance"
   ]
  },
  {
   "cell_type": "code",
   "execution_count": 9,
   "metadata": {},
   "outputs": [],
   "source": [
    "outside_world = gen.cell(2, 'outside_world', 0, None, '200', importance='imp:n,p 0')\n",
    "# rest_of_the_world = gen.cell(1, 'rest_of_the_world', air.id, -0.00129, '-200 #101 #102 #121 #122 #20', importance='imp:n,p 1')\n",
    "# soil_cell = gen.cell(20, 'soil', Mo_15.id, 1.542, '-1', importance='imp:n,p 1')\n",
    "detector1_cell = gen.cell(101, 'detector1', LaBr_detector.id, 5.08, '-21', importance='imp:n,p 1')\n",
    "detector2_cell = gen.cell(102, 'detector2', LaBr_detector.id, 5.08, '-22', importance='imp:n,p 1')\n",
    "sheilding1_cell = gen.cell(121, 'sheilding1', Pb.id, 11.29, '-31', importance='imp:n,p 1')\n",
    "sheilding2_cell = gen.cell(122, 'sheilding2', Pb.id, 11.29, '-32', importance='imp:n,p 1')\n",
    "\n",
    "cells = [\n",
    "    outside_world, \n",
    "    # rest_of_the_world, \n",
    "    # soil_cell, \n",
    "    detector1_cell, \n",
    "    detector2_cell, \n",
    "    sheilding1_cell, \n",
    "    sheilding2_cell\n",
    "    ]"
   ]
  },
  {
   "cell_type": "markdown",
   "metadata": {},
   "source": [
    "# Tallies"
   ]
  },
  {
   "cell_type": "code",
   "execution_count": 10,
   "metadata": {},
   "outputs": [],
   "source": [
    "gebs = [None, [-0.026198, 0.059551, -0.037176]]\n",
    "time_bins = ['50 1e5','0 150i 150']\n",
    "tmcs = [None, [0,50]]\n",
    "\n",
    "n_tallies = len(gebs) * len(time_bins) * len(tmcs)\n",
    "tal_headers = [i for i in range(1, n_tallies+1)]\n",
    "i=0\n",
    "tallies = []\n",
    "for geb in gebs:\n",
    "    for time_bin in time_bins:\n",
    "        for tmc in tmcs:\n",
    "            i+=1\n",
    "            tallies.append(\n",
    "                gen.tally(\n",
    "                    tally_id=(i*10)+6,\n",
    "                    tally_type=6,\n",
    "                    particle='e', \n",
    "                    cells='(101 102)',\n",
    "                    ))\n",
    "            tallies.append(\n",
    "                gen.tally(\n",
    "                    tally_id=(i*10)+8,\n",
    "                    tally_type=8,\n",
    "                    particle='p', \n",
    "                    cells='(101 102)',\n",
    "                    energy_bins='0 1e-5 932i 8.4295',\n",
    "                    time_bins=time_bin,\n",
    "                    geb=geb,\n",
    "                    tmc=tmc,\n",
    "                    phl=(i*10)+6,\n",
    "                    ))"
   ]
  },
  {
   "cell_type": "markdown",
   "metadata": {},
   "source": [
    "# Generation"
   ]
  },
  {
   "cell_type": "code",
   "execution_count": 11,
   "metadata": {},
   "outputs": [],
   "source": [
    "# sdef pos=0 0 0   par=1   erg=14.0  wgt=1   vec= 0 0 1   dir=d1\n",
    "# si1  -1 .93 1\n",
    "# sp1   0  0.0  1.0\n",
    "\n",
    "source = gen.source(1, (0, 0, 0), 14, si='-1 0.93 1', sp='0 0 1')"
   ]
  },
  {
   "cell_type": "code",
   "execution_count": 12,
   "metadata": {},
   "outputs": [],
   "source": [
    "slice_levels = [1, 2, 3, 5, 10, 50, 100, 500, 1000]"
   ]
  },
  {
   "cell_type": "code",
   "execution_count": 13,
   "metadata": {},
   "outputs": [],
   "source": [
    "# Mo_15 = gen.Material(\"Mo_15\", 1, {\n",
    "#                                     14000: -0.2032,\n",
    "#                                     13027: -0.1611,\n",
    "#                                     26000: -0.0315,\n",
    "#                                     6000: -0.0870,\n",
    "#                                     8016: -0.5027,\n",
    "#                                     1001: -0.0145\n",
    "#                                     })\n",
    "# soil_cell = gen.cell(20, 'soil', Mo_15.id, 1.542, '-1', importance='imp:n,p 1')\n",
    "# soil = gen.cylinder(1, pos = (0.0, 0.0, 48.0), dir = (0.0, 0.0, 1), r=45, height=45)"
   ]
  },
  {
   "cell_type": "code",
   "execution_count": 14,
   "metadata": {},
   "outputs": [],
   "source": [
    "import soilsections as ss"
   ]
  },
  {
   "cell_type": "code",
   "execution_count": null,
   "metadata": {},
   "outputs": [],
   "source": []
  },
  {
   "cell_type": "code",
   "execution_count": 44,
   "metadata": {},
   "outputs": [],
   "source": [
    "filenames = []\n",
    "lms = []\n",
    "for level in slice_levels:\n",
    "    _surfaces = surfaces\n",
    "    _cells = cells.copy()\n",
    "    _materials = materials\n",
    "\n",
    "    # example\n",
    "    extent = (-45, 45, -45, 45, 48, 48+45) # x0, x1, y0, y1, z0, z1 min(0) and max(1) of the grid\n",
    "    res = (1, 1, level) # number of cells in each direction\n",
    "\n",
    "\n",
    "    noncarbon_rel_portions = [0.44, 0.55, 0.01] # relative portions of the noncarbon elements\n",
    "    noncarbon_labels = ['14000', '8016', '1001'] # labels of the noncarbon elements\n",
    "\n",
    "    # below is used to assign the surface, material, and cell ids\n",
    "    surface_header = '100' #puts a 1 before the surface id\n",
    "    surface_footer = ''\n",
    "    mat_header = '200'\n",
    "    mat_footer = ''\n",
    "    cell_header = '400'\n",
    "    cell_footer = ''\n",
    "\n",
    "    v_min = 0.05\n",
    "    v_max = 0.25\n",
    "    conc_func = lambda x: ss.vertical_linear_gradient_dist(x, extent[4], extent[5], v_min, v_max)\n",
    "\n",
    "\n",
    "    _soil_cells, _edge_index, _soil_surfaces, _soil_mats, _lms = ss.make_mcnp(extent, res, conc_func, noncarbon_rel_portions, noncarbon_labels, surface_header, surface_footer, mat_header, mat_footer, cell_header, cell_footer)\n",
    "    _edge_index = f\"#({_edge_index[0]} -{_edge_index[1]} {_edge_index[2]} -{_edge_index[3]} {_edge_index[4]} -{_edge_index[5]})\"\n",
    "    rest_of_the_world = gen.cell(1, 'rest_of_the_world', air.id, -0.00129, '-200 #101 #102 #121 #122 '+_edge_index, importance='imp:n,p 1')\n",
    "    _cells.append(rest_of_the_world)\n",
    "\n",
    "    title = f\"runWith\"+str(level)+\"Slices\"\n",
    "    filenames.append(title)\n",
    "    filename = input_folder+title+'.inp'\n",
    "    # filenames.append(filename)\n",
    "    mcnp = gen.sim(\n",
    "        title, \n",
    "        nps=1e9,\n",
    "        prdmp=[-60, -60, -1],\n",
    "        source=source,\n",
    "        tallies=tallies,\n",
    "        surfaces=_surfaces,\n",
    "        materials=_materials,\n",
    "        cells=_cells,\n",
    "        )\n",
    "\n",
    "    outtext = str(mcnp)\n",
    "    o = outtext.split('\\n\\n')\n",
    "    oo = o[-3:]\n",
    "    oo[0] = oo[0]+'\\n'+_soil_cells\n",
    "    oo[1] = oo[1]+'\\n'+_soil_surfaces\n",
    "    oo[2] = _soil_mats+oo[2]\n",
    "    o[-3:] = oo\n",
    "    outtext = '\\n'.join(o)\n",
    "    _lms = -_lms\n",
    "    lms.append(_lms[:, 0].tolist())\n",
    "    with open(filename, 'w') as f:\n",
    "        f.write(outtext)\n",
    "        f.close()"
   ]
  },
  {
   "cell_type": "code",
   "execution_count": 55,
   "metadata": {},
   "outputs": [],
   "source": [
    "import pandas as pd\n",
    "\n",
    "\n",
    "df = pd.DataFrame(filenames, columns=['name'])\n",
    "df.to_csv('filenames.csv', index=False)"
   ]
  },
  {
   "cell_type": "code",
   "execution_count": 46,
   "metadata": {},
   "outputs": [],
   "source": [
    "# plot the simulations"
   ]
  },
  {
   "cell_type": "code",
   "execution_count": null,
   "metadata": {},
   "outputs": [],
   "source": []
  },
  {
   "cell_type": "code",
   "execution_count": 47,
   "metadata": {},
   "outputs": [],
   "source": [
    "import matplotlib.pyplot as plt"
   ]
  },
  {
   "cell_type": "code",
   "execution_count": 49,
   "metadata": {},
   "outputs": [],
   "source": [
    "import numpy as np"
   ]
  },
  {
   "cell_type": "code",
   "execution_count": 56,
   "metadata": {},
   "outputs": [],
   "source": [
    "df['slice_level'] = slice_levels\n",
    "df['lms'] = lms\n",
    "\n",
    "# pickle the dataframe\n",
    "df.to_pickle('df.pkl')"
   ]
  },
  {
   "cell_type": "code",
   "execution_count": 50,
   "metadata": {},
   "outputs": [
    {
     "data": {
      "image/png": "[encoded data removed]",
      "text/plain": [
       "<Figure size 640x480 with 1 Axes>"
      ]
     },
     "metadata": {},
     "output_type": "display_data"
    }
   ],
   "source": [
    "colors = ['r', 'g', 'b', 'c', 'm', 'y', 'teal', 'purple', 'orange']\n",
    "for i in range(len(lms)):\n",
    "    color = colors[i]\n",
    "    plt.plot(lms[i], [i]*len(lms[i]), label=f\"level {slice_levels[i]}\", marker='o', color=color)\n",
    "    plt.plot(np.average(lms[i]), [i], label=f\"level {slice_levels[i]}\", marker='x', color='black')\n",
    "plt.xlabel('Concentration (g/cc)')\n",
    "plt.ylabel('Slice Level')\n",
    "plt.title('Concentration vs Slice Level')\n",
    "plt.yticks(range(len(lms)), slice_levels)\n",
    "# plt.legend()\n",
    "# add annotation \"x is the average\n",
    "for i in range(len(lms)):\n",
    "    avg = np.average(lms[i])\n",
    "    plt.annotate(f'avg={avg:.2f}', (avg, i), textcoords=\"offset points\", xytext=(0,5), ha='center')\n",
    "plt.show()"
   ]
  }
 ],
 "metadata": {
  "kernelspec": {
   "display_name": "Python 3",
   "language": "python",
   "name": "python3"
  },
  "language_info": {
   "codemirror_mode": {
    "name": "ipython",
    "version": 3
   },
   "file_extension": ".py",
   "mimetype": "text/x-python",
   "name": "python",
   "nbconvert_exporter": "python",
   "pygments_lexer": "ipython3",
   "version": "3.10.12"
  }
 },
 "nbformat": 4,
 "nbformat_minor": 2
}
