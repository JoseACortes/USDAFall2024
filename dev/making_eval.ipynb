{
 "cells": [
  {
   "cell_type": "code",
   "execution_count": 2,
   "metadata": {},
   "outputs": [
    {
     "name": "stderr",
     "output_type": "stream",
     "text": [
      "/home/jac2462@uta.edu/.local/lib/python3.10/site-packages/matplotlib/projections/__init__.py:63: UserWarning: Unable to import Axes3D. This may be due to multiple versions of Matplotlib being installed (e.g. as a system package and as a pip package). As a result, the 3D projection is not available.\n",
      "  warnings.warn(\"Unable to import Axes3D. This may be due to multiple versions of \"\n"
     ]
    }
   ],
   "source": [
    "import pandas as pd\n",
    "import numpy as np\n",
    "import INS_Analysis as insd\n",
    "import seaborn as sns\n",
    "import matplotlib.pyplot as plt"
   ]
  },
  {
   "cell_type": "code",
   "execution_count": 5,
   "metadata": {},
   "outputs": [
    {
     "data": {
      "text/html": [
       "<div>\n",
       "<style scoped>\n",
       "    .dataframe tbody tr th:only-of-type {\n",
       "        vertical-align: middle;\n",
       "    }\n",
       "\n",
       "    .dataframe tbody tr th {\n",
       "        vertical-align: top;\n",
       "    }\n",
       "\n",
       "    .dataframe thead th {\n",
       "        text-align: right;\n",
       "    }\n",
       "</style>\n",
       "<table border=\"1\" class=\"dataframe\">\n",
       "  <thead>\n",
       "    <tr style=\"text-align: right;\">\n",
       "      <th></th>\n",
       "      <th>6000</th>\n",
       "      <th>1001</th>\n",
       "      <th>14000</th>\n",
       "      <th>8016</th>\n",
       "      <th>name</th>\n",
       "      <th>filename</th>\n",
       "      <th>ptrac_filename</th>\n",
       "    </tr>\n",
       "    <tr>\n",
       "      <th>index</th>\n",
       "      <th></th>\n",
       "      <th></th>\n",
       "      <th></th>\n",
       "      <th></th>\n",
       "      <th></th>\n",
       "      <th></th>\n",
       "      <th></th>\n",
       "    </tr>\n",
       "  </thead>\n",
       "  <tbody>\n",
       "    <tr>\n",
       "      <th>0</th>\n",
       "      <td>-0.2700</td>\n",
       "      <td>-0.0075</td>\n",
       "      <td>-0.3092</td>\n",
       "      <td>-0.4133</td>\n",
       "      <td>concentration_C_27_Si_3092</td>\n",
       "      <td>../compute/output/mctal/concentration_C_27_Si_...</td>\n",
       "      <td>../compute/output/ptrac/concentration_C_27_Si_...</td>\n",
       "    </tr>\n",
       "    <tr>\n",
       "      <th>1</th>\n",
       "      <td>-0.1870</td>\n",
       "      <td>-0.0052</td>\n",
       "      <td>-0.3576</td>\n",
       "      <td>-0.4502</td>\n",
       "      <td>concentration_C_187_Si_3576</td>\n",
       "      <td>../compute/output/mctal/concentration_C_187_Si...</td>\n",
       "      <td>../compute/output/ptrac/concentration_C_187_Si...</td>\n",
       "    </tr>\n",
       "    <tr>\n",
       "      <th>2</th>\n",
       "      <td>-0.1150</td>\n",
       "      <td>-0.0032</td>\n",
       "      <td>-0.3996</td>\n",
       "      <td>-0.4822</td>\n",
       "      <td>concentration_C_115_Si_3996</td>\n",
       "      <td>../compute/output/mctal/concentration_C_115_Si...</td>\n",
       "      <td>../compute/output/ptrac/concentration_C_115_Si...</td>\n",
       "    </tr>\n",
       "    <tr>\n",
       "      <th>3</th>\n",
       "      <td>-0.0532</td>\n",
       "      <td>-0.0015</td>\n",
       "      <td>-0.4356</td>\n",
       "      <td>-0.5097</td>\n",
       "      <td>concentration_C_0532_Si_4356</td>\n",
       "      <td>../compute/output/mctal/concentration_C_0532_S...</td>\n",
       "      <td>../compute/output/ptrac/concentration_C_0532_S...</td>\n",
       "    </tr>\n",
       "    <tr>\n",
       "      <th>4</th>\n",
       "      <td>-0.0258</td>\n",
       "      <td>-0.0007</td>\n",
       "      <td>-0.4516</td>\n",
       "      <td>-0.5219</td>\n",
       "      <td>concentration_C_0258_Si_4516</td>\n",
       "      <td>../compute/output/mctal/concentration_C_0258_S...</td>\n",
       "      <td>../compute/output/ptrac/concentration_C_0258_S...</td>\n",
       "    </tr>\n",
       "  </tbody>\n",
       "</table>\n",
       "</div>"
      ],
      "text/plain": [
       "         6000    1001   14000    8016                          name  \\\n",
       "index                                                                 \n",
       "0     -0.2700 -0.0075 -0.3092 -0.4133    concentration_C_27_Si_3092   \n",
       "1     -0.1870 -0.0052 -0.3576 -0.4502   concentration_C_187_Si_3576   \n",
       "2     -0.1150 -0.0032 -0.3996 -0.4822   concentration_C_115_Si_3996   \n",
       "3     -0.0532 -0.0015 -0.4356 -0.5097  concentration_C_0532_Si_4356   \n",
       "4     -0.0258 -0.0007 -0.4516 -0.5219  concentration_C_0258_Si_4516   \n",
       "\n",
       "                                                filename  \\\n",
       "index                                                      \n",
       "0      ../compute/output/mctal/concentration_C_27_Si_...   \n",
       "1      ../compute/output/mctal/concentration_C_187_Si...   \n",
       "2      ../compute/output/mctal/concentration_C_115_Si...   \n",
       "3      ../compute/output/mctal/concentration_C_0532_S...   \n",
       "4      ../compute/output/mctal/concentration_C_0258_S...   \n",
       "\n",
       "                                          ptrac_filename  \n",
       "index                                                     \n",
       "0      ../compute/output/ptrac/concentration_C_27_Si_...  \n",
       "1      ../compute/output/ptrac/concentration_C_187_Si...  \n",
       "2      ../compute/output/ptrac/concentration_C_115_Si...  \n",
       "3      ../compute/output/ptrac/concentration_C_0532_S...  \n",
       "4      ../compute/output/ptrac/concentration_C_0258_S...  "
      ]
     },
     "execution_count": 5,
     "metadata": {},
     "output_type": "execute_result"
    }
   ],
   "source": [
    "generator_path = '../simulations/elemental_scan/gen/' \n",
    "trials = generator_path+'trials.csv'\n",
    "trials = pd.read_csv(trials, index_col=0)\n",
    "trials"
   ]
  },
  {
   "cell_type": "code",
   "execution_count": null,
   "metadata": {},
   "outputs": [],
   "source": [
    "# step 1: just do evals for silicone\n",
    "# todo: generate for alot more points"
   ]
  }
 ],
 "metadata": {
  "kernelspec": {
   "display_name": "Python 3",
   "language": "python",
   "name": "python3"
  },
  "language_info": {
   "codemirror_mode": {
    "name": "ipython",
    "version": 3
   },
   "file_extension": ".py",
   "mimetype": "text/x-python",
   "name": "python",
   "nbconvert_exporter": "python",
   "pygments_lexer": "ipython3",
   "version": "3.10.12"
  }
 },
 "nbformat": 4,
 "nbformat_minor": 2
}
