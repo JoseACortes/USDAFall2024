{
 "cells": [
  {
   "cell_type": "markdown",
   "metadata": {},
   "source": [
    "# Imports"
   ]
  },
  {
   "cell_type": "code",
   "execution_count": 4,
   "metadata": {},
   "outputs": [],
   "source": [
    "# !pip3 install ipywidgets\n",
    "import ipywidgets as widgets\n",
    "import importlib"
   ]
  },
  {
   "cell_type": "code",
   "execution_count": 5,
   "metadata": {},
   "outputs": [],
   "source": [
    "import mcnp_inp_gen_pac as inpac"
   ]
  },
  {
   "cell_type": "code",
   "execution_count": 7,
   "metadata": {},
   "outputs": [
    {
     "name": "stdout",
     "output_type": "stream",
     "text": [
      "a\n"
     ]
    },
    {
     "data": {
      "text/plain": [
       "<module 'mcnp_inp_gen_pac' from '/home/andres/Documents/USDAFall2024/dev/input_generator2/mcnp_inp_gen_pac/__init__.py'>"
      ]
     },
     "execution_count": 7,
     "metadata": {},
     "output_type": "execute_result"
    }
   ],
   "source": [
    "importlib.reload(inpac)"
   ]
  },
  {
   "cell_type": "code",
   "execution_count": 8,
   "metadata": {},
   "outputs": [],
   "source": [
    "import openmc"
   ]
  },
  {
   "cell_type": "markdown",
   "metadata": {},
   "source": [
    "# Machine Architecture"
   ]
  },
  {
   "cell_type": "code",
   "execution_count": 9,
   "metadata": {},
   "outputs": [
    {
     "data": {
      "application/vnd.jupyter.widget-view+json": {
       "model_id": "09f8aac2da274984b1650cb954700fad",
       "version_major": 2,
       "version_minor": 0
      },
      "text/plain": [
       "Dropdown(description='Number:', options=('1', '2', '3'), value='1')"
      ]
     },
     "execution_count": 9,
     "metadata": {},
     "output_type": "execute_result"
    }
   ],
   "source": [
    "architecture = widgets.Dropdown(\n",
    "    options=['1', '2', '3'],\n",
    "    value='1',\n",
    "    description='Number:',\n",
    "    disabled=False,\n",
    ")\n",
    "architecture"
   ]
  },
  {
   "cell_type": "markdown",
   "metadata": {},
   "source": [
    "## OpenMC"
   ]
  },
  {
   "cell_type": "markdown",
   "metadata": {},
   "source": [
    "### Static Mats"
   ]
  },
  {
   "cell_type": "code",
   "execution_count": 10,
   "metadata": {},
   "outputs": [],
   "source": [
    "# c\tLaBr detector\n",
    "# c ****************************************\n",
    "# m7       35079    -0.2946\t$ Br79\n",
    "# \t 35081\t  -0.3069       $ Br81\n",
    "#   \t 57139    -0.3485\t$ La139\n",
    "# \t 58140    -0.0500 \t$ Ce140\n",
    "LaBr_detector_mat = openmc.Material(name='LaBr_detector')\n",
    "LaBr_detector_mat.add_nuclide('Br79', 0.2946, 'wo')\n",
    "LaBr_detector_mat.add_nuclide('Br81', 0.3069, 'wo')\n",
    "LaBr_detector_mat.add_nuclide('La139', 0.3485, 'wo')\n",
    "LaBr_detector_mat.add_nuclide('Ce140', 0.0500, 'wo')\n",
    "LaBr_detector_mat.set_density('g/cm3', 5.08)\n",
    "\n",
    "# c  **********************************\n",
    "# m5\t82207 1 $Lead\n",
    "lead_mat = openmc.Material(name='lead')\n",
    "lead_mat.add_nuclide('Pb207', 1)\n",
    "lead_mat.set_density('g/cm3', 11.29)\n",
    "\n",
    "# c ************ air den=1.15e-3g/cc********\n",
    "# m12     8016 -0.23\n",
    "#         7014 -0.77\n",
    "air_mat = openmc.Material(name='air')\n",
    "air_mat.add_nuclide('O16', 0.23, 'wo')\n",
    "air_mat.add_nuclide('N14', 0.77, 'wo')\n",
    "air_mat.set_density('g/cm3', 0.00129)"
   ]
  },
  {
   "cell_type": "code",
   "execution_count": 9,
   "metadata": {},
   "outputs": [
    {
     "ename": "AttributeError",
     "evalue": "module 'openmc' has no attribute 'RectangularParallelepiped'",
     "output_type": "error",
     "traceback": [
      "\u001b[0;31m---------------------------------------------------------------------------\u001b[0m",
      "\u001b[0;31mAttributeError\u001b[0m                            Traceback (most recent call last)",
      "Cell \u001b[0;32mIn[9], line 13\u001b[0m\n\u001b[1;32m      7\u001b[0m materials \u001b[38;5;241m=\u001b[39m openmc\u001b[38;5;241m.\u001b[39mMaterials([material])\n\u001b[1;32m      9\u001b[0m \u001b[38;5;66;03m# Define surfaces\u001b[39;00m\n\u001b[1;32m     10\u001b[0m surfaces \u001b[38;5;241m=\u001b[39m {\n\u001b[1;32m     11\u001b[0m     \u001b[38;5;241m21\u001b[39m: openmc\u001b[38;5;241m.\u001b[39mZCylinder(x0\u001b[38;5;241m=\u001b[39m\u001b[38;5;241m-\u001b[39m\u001b[38;5;241m10.2\u001b[39m, y0\u001b[38;5;241m=\u001b[39m\u001b[38;5;241m45.5\u001b[39m, r\u001b[38;5;241m=\u001b[39m\u001b[38;5;241m4.5\u001b[39m),\n\u001b[1;32m     12\u001b[0m     \u001b[38;5;241m22\u001b[39m: openmc\u001b[38;5;241m.\u001b[39mZCylinder(x0\u001b[38;5;241m=\u001b[39m\u001b[38;5;241m-\u001b[39m\u001b[38;5;241m10.2\u001b[39m, y0\u001b[38;5;241m=\u001b[39m\u001b[38;5;241m-\u001b[39m\u001b[38;5;241m45.5\u001b[39m, r\u001b[38;5;241m=\u001b[39m\u001b[38;5;241m4.5\u001b[39m),\n\u001b[0;32m---> 13\u001b[0m     \u001b[38;5;241m31\u001b[39m: \u001b[43mopenmc\u001b[49m\u001b[38;5;241;43m.\u001b[39;49m\u001b[43mRectangularParallelepiped\u001b[49m(\u001b[38;5;241m-\u001b[39m\u001b[38;5;241m20.3\u001b[39m, \u001b[38;5;241m20.3\u001b[39m, \u001b[38;5;241m7.6\u001b[39m, \u001b[38;5;241m33\u001b[39m, \u001b[38;5;241m2.54\u001b[39m, \u001b[38;5;241m15.2\u001b[39m),\n\u001b[1;32m     14\u001b[0m     \u001b[38;5;241m32\u001b[39m: openmc\u001b[38;5;241m.\u001b[39mRectangularParallelepiped(\u001b[38;5;241m-\u001b[39m\u001b[38;5;241m20.3\u001b[39m, \u001b[38;5;241m20.3\u001b[39m, \u001b[38;5;241m-\u001b[39m\u001b[38;5;241m33\u001b[39m, \u001b[38;5;241m-\u001b[39m\u001b[38;5;241m7.6\u001b[39m, \u001b[38;5;241m2.54\u001b[39m, \u001b[38;5;241m15.2\u001b[39m),\n\u001b[1;32m     15\u001b[0m     \u001b[38;5;241m200\u001b[39m: openmc\u001b[38;5;241m.\u001b[39mSphere(r\u001b[38;5;241m=\u001b[39m\u001b[38;5;241m1500\u001b[39m),\n\u001b[1;32m     16\u001b[0m     \u001b[38;5;241m10010\u001b[39m: openmc\u001b[38;5;241m.\u001b[39mXPlane(x0\u001b[38;5;241m=\u001b[39m\u001b[38;5;241m-\u001b[39m\u001b[38;5;241m45.0\u001b[39m),\n\u001b[1;32m     17\u001b[0m     \u001b[38;5;241m10011\u001b[39m: openmc\u001b[38;5;241m.\u001b[39mXPlane(x0\u001b[38;5;241m=\u001b[39m\u001b[38;5;241m45.0\u001b[39m),\n\u001b[1;32m     18\u001b[0m     \u001b[38;5;241m10020\u001b[39m: openmc\u001b[38;5;241m.\u001b[39mYPlane(y0\u001b[38;5;241m=\u001b[39m\u001b[38;5;241m-\u001b[39m\u001b[38;5;241m45.0\u001b[39m),\n\u001b[1;32m     19\u001b[0m     \u001b[38;5;241m10021\u001b[39m: openmc\u001b[38;5;241m.\u001b[39mYPlane(y0\u001b[38;5;241m=\u001b[39m\u001b[38;5;241m45.0\u001b[39m),\n\u001b[1;32m     20\u001b[0m     \u001b[38;5;241m10030\u001b[39m: openmc\u001b[38;5;241m.\u001b[39mZPlane(z0\u001b[38;5;241m=\u001b[39m\u001b[38;5;241m48.0\u001b[39m),\n\u001b[1;32m     21\u001b[0m     \u001b[38;5;241m10031\u001b[39m: openmc\u001b[38;5;241m.\u001b[39mZPlane(z0\u001b[38;5;241m=\u001b[39m\u001b[38;5;241m70.5\u001b[39m)\n\u001b[1;32m     22\u001b[0m }\n\u001b[1;32m     24\u001b[0m \u001b[38;5;66;03m# Define cells\u001b[39;00m\n\u001b[1;32m     25\u001b[0m cells \u001b[38;5;241m=\u001b[39m [\n\u001b[1;32m     26\u001b[0m     openmc\u001b[38;5;241m.\u001b[39mCell(cell_id\u001b[38;5;241m=\u001b[39m\u001b[38;5;241m101\u001b[39m, region\u001b[38;5;241m=\u001b[39m\u001b[38;5;241m+\u001b[39msurfaces[\u001b[38;5;241m10010\u001b[39m] \u001b[38;5;241m&\u001b[39m \u001b[38;5;241m-\u001b[39msurfaces[\u001b[38;5;241m10011\u001b[39m] \u001b[38;5;241m&\u001b[39m \u001b[38;5;241m+\u001b[39msurfaces[\u001b[38;5;241m10020\u001b[39m] \u001b[38;5;241m&\u001b[39m \u001b[38;5;241m-\u001b[39msurfaces[\u001b[38;5;241m10021\u001b[39m] \u001b[38;5;241m&\u001b[39m \u001b[38;5;241m+\u001b[39msurfaces[\u001b[38;5;241m10030\u001b[39m] \u001b[38;5;241m&\u001b[39m \u001b[38;5;241m-\u001b[39msurfaces[\u001b[38;5;241m10031\u001b[39m], fill\u001b[38;5;241m=\u001b[39mmaterial),\n\u001b[1;32m     27\u001b[0m     openmc\u001b[38;5;241m.\u001b[39mCell(cell_id\u001b[38;5;241m=\u001b[39m\u001b[38;5;241m102\u001b[39m, region\u001b[38;5;241m=\u001b[39m\u001b[38;5;241m+\u001b[39msurfaces[\u001b[38;5;241m10010\u001b[39m] \u001b[38;5;241m&\u001b[39m \u001b[38;5;241m-\u001b[39msurfaces[\u001b[38;5;241m10011\u001b[39m] \u001b[38;5;241m&\u001b[39m \u001b[38;5;241m+\u001b[39msurfaces[\u001b[38;5;241m10020\u001b[39m] \u001b[38;5;241m&\u001b[39m \u001b[38;5;241m-\u001b[39msurfaces[\u001b[38;5;241m10021\u001b[39m] \u001b[38;5;241m&\u001b[39m \u001b[38;5;241m+\u001b[39msurfaces[\u001b[38;5;241m10031\u001b[39m] \u001b[38;5;241m&\u001b[39m \u001b[38;5;241m-\u001b[39msurfaces[\u001b[38;5;241m10032\u001b[39m], fill\u001b[38;5;241m=\u001b[39mmaterial),\n\u001b[0;32m   (...)\u001b[0m\n\u001b[1;32m     32\u001b[0m     openmc\u001b[38;5;241m.\u001b[39mCell(cell_id\u001b[38;5;241m=\u001b[39m\u001b[38;5;241m4001\u001b[39m, region\u001b[38;5;241m=\u001b[39m\u001b[38;5;241m+\u001b[39msurfaces[\u001b[38;5;241m10010\u001b[39m] \u001b[38;5;241m&\u001b[39m \u001b[38;5;241m-\u001b[39msurfaces[\u001b[38;5;241m10011\u001b[39m] \u001b[38;5;241m&\u001b[39m \u001b[38;5;241m+\u001b[39msurfaces[\u001b[38;5;241m10020\u001b[39m] \u001b[38;5;241m&\u001b[39m \u001b[38;5;241m-\u001b[39msurfaces[\u001b[38;5;241m10021\u001b[39m] \u001b[38;5;241m&\u001b[39m \u001b[38;5;241m+\u001b[39msurfaces[\u001b[38;5;241m10031\u001b[39m] \u001b[38;5;241m&\u001b[39m \u001b[38;5;241m-\u001b[39msurfaces[\u001b[38;5;241m10032\u001b[39m], fill\u001b[38;5;241m=\u001b[39mmaterial)\n\u001b[1;32m     33\u001b[0m ]\n",
      "\u001b[0;31mAttributeError\u001b[0m: module 'openmc' has no attribute 'RectangularParallelepiped'"
     ]
    }
   ],
   "source": [
    "# Define materials\n",
    "material = openmc.Material()\n",
    "material.add_element('H', 1.0)\n",
    "material.set_density('g/cm3', 1.0)\n",
    "materials = openmc.Materials([material])\n",
    "\n",
    "# Define surfaces\n",
    "surfaces = {\n",
    "    21: openmc.ZCylinder(x0=-10.2, y0=45.5, r=4.5),\n",
    "    22: openmc.ZCylinder(x0=-10.2, y0=-45.5, r=4.5),\n",
    "    31: openmc.RectangularParallelepiped(-20.3, 20.3, 7.6, 33, 2.54, 15.2),\n",
    "    32: openmc.RectangularParallelepiped(-20.3, 20.3, -33, -7.6, 2.54, 15.2),\n",
    "    200: openmc.Sphere(r=1500),\n",
    "    10010: openmc.XPlane(x0=-45.0),\n",
    "    10011: openmc.XPlane(x0=45.0),\n",
    "    10020: openmc.YPlane(y0=-45.0),\n",
    "    10021: openmc.YPlane(y0=45.0),\n",
    "    10030: openmc.ZPlane(z0=48.0),\n",
    "    10031: openmc.ZPlane(z0=70.5)\n",
    "}\n",
    "\n",
    "# Define cells\n",
    "cells = [\n",
    "    openmc.Cell(cell_id=101, region=+surfaces[10010] & -surfaces[10011] & +surfaces[10020] & -surfaces[10021] & +surfaces[10030] & -surfaces[10031], fill=material),\n",
    "    openmc.Cell(cell_id=102, region=+surfaces[10010] & -surfaces[10011] & +surfaces[10020] & -surfaces[10021] & +surfaces[10031] & -surfaces[10032], fill=material),\n",
    "    openmc.Cell(cell_id=121, region=+surfaces[10010] & -surfaces[10011] & +surfaces[10020] & -surfaces[10021] & +surfaces[10030] & -surfaces[10031], fill=material),\n",
    "    openmc.Cell(cell_id=122, region=+surfaces[10010] & -surfaces[10011] & +surfaces[10020] & -surfaces[10021] & +surfaces[10031] & -surfaces[10032], fill=material),\n",
    "    openmc.Cell(cell_id=1, region=+surfaces[10010] & -surfaces[10011] & +surfaces[10020] & -surfaces[10021] & +surfaces[10030] & -surfaces[10032], fill=material),\n",
    "    openmc.Cell(cell_id=4000, region=+surfaces[10010] & -surfaces[10011] & +surfaces[10020] & -surfaces[10021] & +surfaces[10030] & -surfaces[10031], fill=material),\n",
    "    openmc.Cell(cell_id=4001, region=+surfaces[10010] & -surfaces[10011] & +surfaces[10020] & -surfaces[10021] & +surfaces[10031] & -surfaces[10032], fill=material)\n",
    "]\n",
    "\n",
    "# Define root universe\n",
    "universe = openmc.Universe(cells=cells)\n",
    "geometry = openmc.Geometry(universe)\n",
    "\n",
    "# Define settings\n",
    "settings = openmc.Settings()\n",
    "settings.batches = 100\n",
    "settings.inactive = 10\n",
    "settings.particles = 1000\n",
    "\n",
    "# Define source\n",
    "source = openmc.Source()\n",
    "source.space = openmc.stats.Point((0, 0, 0))\n",
    "settings.source = source\n",
    "\n",
    "# Export to XML\n",
    "materials.export_to_xml()\n",
    "geometry.export_to_xml()\n",
    "settings.export_to_xml()"
   ]
  },
  {
   "cell_type": "markdown",
   "metadata": {},
   "source": [
    "## mcnpy"
   ]
  },
  {
   "cell_type": "markdown",
   "metadata": {},
   "source": [
    "# Field Geometry and chemical composition"
   ]
  },
  {
   "cell_type": "markdown",
   "metadata": {},
   "source": [
    "# Core Simulation"
   ]
  },
  {
   "cell_type": "markdown",
   "metadata": {},
   "source": [
    "# OpenMC Simulation"
   ]
  },
  {
   "cell_type": "markdown",
   "metadata": {},
   "source": [
    "## Calibration Pits"
   ]
  },
  {
   "cell_type": "markdown",
   "metadata": {},
   "source": [
    "# MCNP Code Generation"
   ]
  },
  {
   "cell_type": "markdown",
   "metadata": {},
   "source": [
    "## Calibration Pits"
   ]
  },
  {
   "cell_type": "markdown",
   "metadata": {},
   "source": []
  },
  {
   "cell_type": "markdown",
   "metadata": {},
   "source": [
    "## Local Universe on Field"
   ]
  },
  {
   "cell_type": "code",
   "execution_count": null,
   "metadata": {},
   "outputs": [],
   "source": []
  },
  {
   "cell_type": "markdown",
   "metadata": {},
   "source": [
    "# Measurements"
   ]
  },
  {
   "cell_type": "markdown",
   "metadata": {},
   "source": [
    "## Calibration"
   ]
  },
  {
   "cell_type": "markdown",
   "metadata": {},
   "source": [
    "# Cores vs. MINS"
   ]
  }
 ],
 "metadata": {
  "kernelspec": {
   "display_name": ".venv",
   "language": "python",
   "name": "python3"
  },
  "language_info": {
   "codemirror_mode": {
    "name": "ipython",
    "version": 3
   },
   "file_extension": ".py",
   "mimetype": "text/x-python",
   "name": "python",
   "nbconvert_exporter": "python",
   "pygments_lexer": "ipython3",
   "version": "3.10.12"
  }
 },
 "nbformat": 4,
 "nbformat_minor": 2
}
